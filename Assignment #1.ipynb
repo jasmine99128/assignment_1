{
 "cells": [
  {
   "cell_type": "markdown",
   "id": "5925904d",
   "metadata": {},
   "source": [
    "<h1>Tracking of my learning progress per week throughout the month"
   ]
  },
  {
   "cell_type": "code",
   "execution_count": 6,
   "id": "e4dd6232",
   "metadata": {},
   "outputs": [],
   "source": [
    "import pandas as pd\n",
    "from matplotlib import pyplot as plt"
   ]
  },
  {
   "cell_type": "code",
   "execution_count": 7,
   "id": "67a2dd20",
   "metadata": {},
   "outputs": [
    {
     "name": "stdout",
     "output_type": "stream",
     "text": [
      "Enter the hours spent on Michael's course on week1:2\n",
      "Enter the hours spent on Bernard's course on week1:5\n",
      "Enter the hours spent on Wei's course on week1:3\n",
      "Enter the hours spent on Michael's course on week2:3\n",
      "Enter the hours spent on Bernard's course on week2:6\n",
      "Enter the hours spent on Wei's course on week2:2\n",
      "Enter the hours spent on Michael's course on week3:3\n",
      "Enter the hours spent on Bernard's course on week3:7\n",
      "Enter the hours spent on Wei's course on week3:4\n",
      "Enter the hours spent on Michael's course on week4:4\n",
      "Enter the hours spent on Bernard's course on week4:8\n",
      "Enter the hours spent on Wei's course on week4:5\n",
      "[{'week': 'week1', 'Michael': '2', 'Bernard': '5', 'Wei': '3'}, {'week': 'week2', 'Michael': '3', 'Bernard': '6', 'Wei': '2'}, {'week': 'week3', 'Michael': '3', 'Bernard': '7', 'Wei': '4'}, {'week': 'week4', 'Michael': '4', 'Bernard': '8', 'Wei': '5'}]\n"
     ]
    },
    {
     "data": {
      "text/html": [
       "<div>\n",
       "<style scoped>\n",
       "    .dataframe tbody tr th:only-of-type {\n",
       "        vertical-align: middle;\n",
       "    }\n",
       "\n",
       "    .dataframe tbody tr th {\n",
       "        vertical-align: top;\n",
       "    }\n",
       "\n",
       "    .dataframe thead th {\n",
       "        text-align: right;\n",
       "    }\n",
       "</style>\n",
       "<table border=\"1\" class=\"dataframe\">\n",
       "  <thead>\n",
       "    <tr style=\"text-align: right;\">\n",
       "      <th></th>\n",
       "      <th>week</th>\n",
       "      <th>Michael</th>\n",
       "      <th>Bernard</th>\n",
       "      <th>Wei</th>\n",
       "    </tr>\n",
       "  </thead>\n",
       "  <tbody>\n",
       "    <tr>\n",
       "      <th>0</th>\n",
       "      <td>week1</td>\n",
       "      <td>2</td>\n",
       "      <td>5</td>\n",
       "      <td>3</td>\n",
       "    </tr>\n",
       "    <tr>\n",
       "      <th>1</th>\n",
       "      <td>week2</td>\n",
       "      <td>3</td>\n",
       "      <td>6</td>\n",
       "      <td>2</td>\n",
       "    </tr>\n",
       "    <tr>\n",
       "      <th>2</th>\n",
       "      <td>week3</td>\n",
       "      <td>3</td>\n",
       "      <td>7</td>\n",
       "      <td>4</td>\n",
       "    </tr>\n",
       "    <tr>\n",
       "      <th>3</th>\n",
       "      <td>week4</td>\n",
       "      <td>4</td>\n",
       "      <td>8</td>\n",
       "      <td>5</td>\n",
       "    </tr>\n",
       "  </tbody>\n",
       "</table>\n",
       "</div>"
      ],
      "text/plain": [
       "    week Michael Bernard Wei\n",
       "0  week1       2       5   3\n",
       "1  week2       3       6   2\n",
       "2  week3       3       7   4\n",
       "3  week4       4       8   5"
      ]
     },
     "execution_count": 7,
     "metadata": {},
     "output_type": "execute_result"
    }
   ],
   "source": [
    "weekly_progress = []\n",
    "weeks_of_month = ['week1','week2','week3','week4']\n",
    "for i in weeks_of_month:\n",
    "    m = input (\"Enter the hours spent on Michael's course on \" + i + \":\")\n",
    "    b = input (\"Enter the hours spent on Bernard's course on \" + i + \":\")\n",
    "    w = input (\"Enter the hours spent on Wei's course on \" + i + \":\")\n",
    "    weekly_progress.append ({'week':i,'Michael':m,'Bernard':b,'Wei':w }) \n",
    "print (weekly_progress)\n",
    "df = pd.DataFrame (weekly_progress)\n",
    "df.to_csv ('weekly_progress.csv', mode ='w',index=False)\n",
    "df"
   ]
  },
  {
   "cell_type": "code",
   "execution_count": 8,
   "id": "c4037618",
   "metadata": {},
   "outputs": [
    {
     "data": {
      "text/html": [
       "<div>\n",
       "<style scoped>\n",
       "    .dataframe tbody tr th:only-of-type {\n",
       "        vertical-align: middle;\n",
       "    }\n",
       "\n",
       "    .dataframe tbody tr th {\n",
       "        vertical-align: top;\n",
       "    }\n",
       "\n",
       "    .dataframe thead th {\n",
       "        text-align: right;\n",
       "    }\n",
       "</style>\n",
       "<table border=\"1\" class=\"dataframe\">\n",
       "  <thead>\n",
       "    <tr style=\"text-align: right;\">\n",
       "      <th></th>\n",
       "      <th>week</th>\n",
       "      <th>Michael</th>\n",
       "      <th>Bernard</th>\n",
       "      <th>Wei</th>\n",
       "    </tr>\n",
       "  </thead>\n",
       "  <tbody>\n",
       "    <tr>\n",
       "      <th>0</th>\n",
       "      <td>week1</td>\n",
       "      <td>2</td>\n",
       "      <td>5</td>\n",
       "      <td>3</td>\n",
       "    </tr>\n",
       "    <tr>\n",
       "      <th>1</th>\n",
       "      <td>week2</td>\n",
       "      <td>3</td>\n",
       "      <td>6</td>\n",
       "      <td>2</td>\n",
       "    </tr>\n",
       "    <tr>\n",
       "      <th>2</th>\n",
       "      <td>week3</td>\n",
       "      <td>3</td>\n",
       "      <td>7</td>\n",
       "      <td>4</td>\n",
       "    </tr>\n",
       "    <tr>\n",
       "      <th>3</th>\n",
       "      <td>week4</td>\n",
       "      <td>4</td>\n",
       "      <td>8</td>\n",
       "      <td>5</td>\n",
       "    </tr>\n",
       "  </tbody>\n",
       "</table>\n",
       "</div>"
      ],
      "text/plain": [
       "    week  Michael  Bernard  Wei\n",
       "0  week1        2        5    3\n",
       "1  week2        3        6    2\n",
       "2  week3        3        7    4\n",
       "3  week4        4        8    5"
      ]
     },
     "execution_count": 8,
     "metadata": {},
     "output_type": "execute_result"
    }
   ],
   "source": [
    "import pandas as pd\n",
    "from matplotlib import pyplot as plt\n",
    "df = pd.read_csv ('weekly_progress.csv')\n",
    "df"
   ]
  },
  {
   "cell_type": "code",
   "execution_count": 9,
   "id": "1dc9d713",
   "metadata": {},
   "outputs": [
    {
     "name": "stdout",
     "output_type": "stream",
     "text": [
      "Weekly Spent hours: \n",
      " [['week1', 2, 5, 3], ['week2', 3, 6, 2], ['week3', 3, 7, 4], ['week4', 4, 8, 5]]\n"
     ]
    }
   ],
   "source": [
    "weekly_hrs = df.values.tolist()\n",
    "print (\"Weekly Spent hours:\", \"\\n\", weekly_hrs)  # \\n means newline"
   ]
  },
  {
   "cell_type": "code",
   "execution_count": 32,
   "id": "4a8be502",
   "metadata": {},
   "outputs": [
    {
     "name": "stdout",
     "output_type": "stream",
     "text": [
      "Hours spent on Michael's: [2, 3, 3, 4] \n",
      "\n",
      "Hours spent on Bernard's: [5, 6, 7, 8] \n",
      "\n",
      "Hours spent on Wei's: [3, 2, 4, 5] \n",
      "\n"
     ]
    }
   ],
   "source": [
    "weeks = []\n",
    "Michael = []\n",
    "Bernard = []\n",
    "Wei = []\n",
    "for i in weekly_hrs:\n",
    "    weeks.append(i[0])\n",
    "    Michael.append (i[1])\n",
    "    Bernard.append (i[2])\n",
    "    Wei.append (i[3])\n",
    "print (\"Hours spent on Michael's:\", Michael, \"\\n\")\n",
    "print (\"Hours spent on Bernard's:\", Bernard, \"\\n\")\n",
    "print (\"Hours spent on Wei's:\", Wei, \"\\n\")"
   ]
  },
  {
   "cell_type": "code",
   "execution_count": 31,
   "id": "55c54901",
   "metadata": {},
   "outputs": [
    {
     "data": {
      "image/png": "[encoded data removed]",
      "text/plain": [
       "<Figure size 432x288 with 1 Axes>"
      ]
     },
     "metadata": {
      "needs_background": "light"
     },
     "output_type": "display_data"
    }
   ],
   "source": [
    "plt.plot (weeks, Michael,color = \"purple\", marker = 's')\n",
    "plt.plot (weeks, Bernard,color = \"green\", marker = 's')\n",
    "plt.plot (weeks, Wei,color = \"pink\", marker = 's')\n",
    "mean = df.mean(axis=1)\n",
    "plt.plot (weeks, mean,color = \"red\", marker = 's')\n",
    "plt.legend ([\"Michael's course\", \"Bernard's course\", \"Wei's course\", 'Average'])\n",
    "plt.xlabel (\"Week\")\n",
    "plt.ylabel (\"Hours\")\n",
    "plt.title (\"My Learning Progress in September\")\n",
    "plt.show()"
   ]
  },
  {
   "cell_type": "code",
   "execution_count": null,
   "id": "79b8b63a",
   "metadata": {},
   "outputs": [],
   "source": []
  }
 ],
 "metadata": {
  "kernelspec": {
   "display_name": "Python 3",
   "language": "python",
   "name": "python3"
  }
 },
 "nbformat": 4,
 "nbformat_minor": 5
}
